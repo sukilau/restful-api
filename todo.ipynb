{
 "cells": [
  {
   "cell_type": "code",
   "execution_count": 1,
   "metadata": {
    "collapsed": false
   },
   "outputs": [],
   "source": [
    "from firebase import firebase\n",
    "import datetime\n",
    "\n",
    "URL = 'https://todo-45456.firebaseio.com'\n",
    "firebase = firebase.FirebaseApplication(URL, None)\n",
    "\n",
    "def readTodo(todoid):\n",
    "    '''\n",
    "    Input TODO ID\n",
    "    Print the TODO item\n",
    "    '''\n",
    "    try:\n",
    "        result = firebase.get('/todos', todoid, params={'print': 'pretty'}, headers={'X_FANCY_HEADER': 'very fancy'})\n",
    "        print('User ID: ', result['User ID'])\n",
    "        print('TODO Created Time: ', result['created_at'])\n",
    "        print('TODO Name: ', result['TODO Name'])\n",
    "        print('TODO Deadline: ', result['TODO Deadline'])\n",
    "    except:\n",
    "        print('Error')\n",
    "\n",
    "        \n",
    "def addTodo(uid=None, todo=None, deadline=None):\n",
    "    '''\n",
    "    Input User ID, TODO Name, TODO Deadline\n",
    "    Add a TODO item and print TODO ID\n",
    "    '''\n",
    "    if uid and todo and deadline:\n",
    "        data = {'User ID': uid, 'TODO Name': todo, 'TODO Deadline': deadline,'created_at': datetime.datetime.now()}\n",
    "        result = firebase.post('/todos', data)\n",
    "        print('New TODO item added - TODO ID:', result['name'])\n",
    "    else:\n",
    "        print('Error. User ID, TODO Name or TODO Deadline should not be empty.')\n",
    "\n",
    "    \n",
    "def deleteTodo(todoid):\n",
    "    '''\n",
    "    Input TODO ID\n",
    "    Delete the TODO item\n",
    "    Return Success/Error\n",
    "    '''\n",
    "    result = firebase.get('/todos', todoid)\n",
    "    try:\n",
    "        result['User ID']\n",
    "        result = firebase.delete('/todos', todoid)\n",
    "        print('Sucess')\n",
    "    except:\n",
    "        print('Error')\n",
    "    \n",
    "    \n",
    "def updateDeadline(todoid, newDeadline):\n",
    "    '''\n",
    "    Input TODO ID, new deadline\n",
    "    Update deadline and print TODO item if TODO ID is matched, otherwise raise error\n",
    "    '''\n",
    "    try:\n",
    "        result = firebase.get('/todos', todoid)\n",
    "        result['TODO Deadline'] = newDeadline\n",
    "        firebase.put('/todos', todoid, result)\n",
    "        print('Deadline updated')\n",
    "        readTodo(todoid)\n",
    "    except:\n",
    "        print('Error')\n",
    "    \n",
    "    \n",
    "def readUserTodos(uid):\n",
    "    '''\n",
    "    Input User ID\n",
    "    Return list of all TODO items if User ID is matched\n",
    "    '''\n",
    "    result = firebase.get('/todos', None)\n",
    "    array = []\n",
    "    for key, value in result.items():\n",
    "        if value['User ID'] == uid:\n",
    "            array.append(value)\n",
    "    if array == []:\n",
    "        print('No matched user.')\n",
    "    else:\n",
    "        print('List of all TODO items for user', uid, 'created.')\n",
    "        return array"
   ]
  },
  {
   "cell_type": "code",
   "execution_count": 2,
   "metadata": {
    "collapsed": false
   },
   "outputs": [
    {
     "name": "stdout",
     "output_type": "stream",
     "text": [
      "New TODO item added - TODO ID: -KzWWAoYrXYsNTzM8_ys\n",
      "New TODO item added - TODO ID: -KzWWAz9kGd8NCD94Umf\n",
      "New TODO item added - TODO ID: -KzWWB8rI3pWjn3TeNzn\n",
      "New TODO item added - TODO ID: -KzWWBJXI3NmAMyYMtKr\n",
      "New TODO item added - TODO ID: -KzWWBUNpD_8-Atsk0Mj\n",
      "Error. User ID, TODO Name or TODO Deadline should not be empty.\n"
     ]
    }
   ],
   "source": [
    "# add to do items\n",
    "addTodo(uid='1', todo='Submit assignment 1', deadline='01-12-2017')\n",
    "addTodo(uid='1', todo='Submit assignment 2', deadline='08-12-2017')\n",
    "addTodo(uid='2', todo='Go to bank', deadline='08-12-2017')\n",
    "addTodo(uid='3', todo='Get laundry', deadline='08-12-2017')\n",
    "addTodo(uid='1', todo='Submit assignment 3', deadline='15-12-2017')\n",
    "addTodo(todo='Submit assignment 3', deadline='15-12-2017') #invalid todo item"
   ]
  },
  {
   "cell_type": "code",
   "execution_count": 5,
   "metadata": {
    "collapsed": false
   },
   "outputs": [
    {
     "name": "stdout",
     "output_type": "stream",
     "text": [
      "User ID:  1\n",
      "TODO Created Time:  2017-11-22T10:18:15.802785\n",
      "TODO Name:  Submit assignment 3\n",
      "TODO Deadline:  15-12-2017\n"
     ]
    }
   ],
   "source": [
    "# read a todo item using a valid todo id\n",
    "readTodo(todoid='-KzWWBUNpD_8-Atsk0Mj')"
   ]
  },
  {
   "cell_type": "code",
   "execution_count": 6,
   "metadata": {
    "collapsed": false
   },
   "outputs": [
    {
     "name": "stdout",
     "output_type": "stream",
     "text": [
      "Error\n"
     ]
    }
   ],
   "source": [
    "# read a todo item using an invalid todo id\n",
    "readTodo(todoid='000')"
   ]
  },
  {
   "cell_type": "code",
   "execution_count": 7,
   "metadata": {
    "collapsed": false
   },
   "outputs": [
    {
     "name": "stdout",
     "output_type": "stream",
     "text": [
      "Deadline updated\n",
      "User ID:  1\n",
      "TODO Created Time:  2017-11-22T10:18:15.802785\n",
      "TODO Name:  Submit assignment 3\n",
      "TODO Deadline:  01-01-2018\n"
     ]
    }
   ],
   "source": [
    "# change deadline for a todo item using a valid todo id\n",
    "updateDeadline(todoid='-KzWWBUNpD_8-Atsk0Mj', newDeadline='01-01-2018')"
   ]
  },
  {
   "cell_type": "code",
   "execution_count": 8,
   "metadata": {
    "collapsed": false
   },
   "outputs": [
    {
     "name": "stdout",
     "output_type": "stream",
     "text": [
      "Error\n"
     ]
    }
   ],
   "source": [
    "# change deadline for a todo item using an invalid todo id\n",
    "updateDeadline(todoid='000', newDeadline='01-01-2018')"
   ]
  },
  {
   "cell_type": "code",
   "execution_count": 9,
   "metadata": {
    "collapsed": false
   },
   "outputs": [
    {
     "name": "stdout",
     "output_type": "stream",
     "text": [
      "Sucess\n"
     ]
    }
   ],
   "source": [
    "# delete a todo item using a valid todo id\n",
    "deleteTodo(todoid='-KzWWBUNpD_8-Atsk0Mj')"
   ]
  },
  {
   "cell_type": "code",
   "execution_count": 10,
   "metadata": {
    "collapsed": false
   },
   "outputs": [
    {
     "name": "stdout",
     "output_type": "stream",
     "text": [
      "Error\n"
     ]
    }
   ],
   "source": [
    "# delete a todo item using an invalid todo id\n",
    "deleteTodo(todoid='000')"
   ]
  },
  {
   "cell_type": "code",
   "execution_count": 11,
   "metadata": {
    "collapsed": false
   },
   "outputs": [
    {
     "name": "stdout",
     "output_type": "stream",
     "text": [
      "List of all TODO items for user 1 created.\n",
      "[{'TODO Deadline': '01-12-2017', 'TODO Name': 'Submit assignment 1', 'User ID': '1', 'created_at': '2017-11-22T10:18:13.000807'}, {'TODO Deadline': '08-12-2017', 'TODO Name': 'Submit assignment 2', 'User ID': '1', 'created_at': '2017-11-22T10:18:13.753687'}]\n"
     ]
    }
   ],
   "source": [
    "# list all todo items for a specific user using a valid user id\n",
    "array = readUserTodos(uid='1')\n",
    "print(array)"
   ]
  },
  {
   "cell_type": "code",
   "execution_count": 12,
   "metadata": {
    "collapsed": false
   },
   "outputs": [
    {
     "name": "stdout",
     "output_type": "stream",
     "text": [
      "No matched user.\n",
      "None\n"
     ]
    }
   ],
   "source": [
    "# list all todo items for a specific user using an invalid user id\n",
    "array = readUserTodos(uid='0')\n",
    "print(array)"
   ]
  },
  {
   "cell_type": "code",
   "execution_count": null,
   "metadata": {
    "collapsed": true
   },
   "outputs": [],
   "source": []
  }
 ],
 "metadata": {
  "kernelspec": {
   "display_name": "Python 3",
   "language": "python",
   "name": "python3"
  },
  "language_info": {
   "codemirror_mode": {
    "name": "ipython",
    "version": 3
   },
   "file_extension": ".py",
   "mimetype": "text/x-python",
   "name": "python",
   "nbconvert_exporter": "python",
   "pygments_lexer": "ipython3",
   "version": "3.6.0"
  }
 },
 "nbformat": 4,
 "nbformat_minor": 2
}
